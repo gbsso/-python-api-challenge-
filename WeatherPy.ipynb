{
 "cells": [
  {
   "cell_type": "markdown",
   "metadata": {},
   "source": [
    "# WeatherPy\n",
    "----\n",
    "\n",
    "#### Note\n",
    "* Instructions have been included for each segment. You do not have to follow them exactly, but they are included to help you think through the steps."
   ]
  },
  {
   "cell_type": "code",
   "execution_count": 3,
   "metadata": {},
   "outputs": [],
   "source": [
    "\n",
    "# Dependencies and Setup\n",
    "import matplotlib.pyplot as plt\n",
    "import pandas as pd\n",
    "import numpy as np\n",
    "import requests\n",
    "import time\n",
    "import json\n",
    "import scipy.stats as st\n",
    "from scipy.stats import linregress\n",
    "\n",
    "# Import API key\n",
    "from api_keys import weather_api_key\n",
    "\n",
    "# Output File (CSV)\n",
    "output_data_file = \"output_data/cities.csv\"\n",
    "\n",
    "# Incorporated citipy to determine city based on latitude and longitude\n",
    "from citipy import citipy\n",
    "\n",
    "# Range of latitudes and longitudes\n",
    "lat_range = (-90, 90)\n",
    "lng_range = (-180, 180)"
   ]
  },
  {
   "cell_type": "markdown",
   "metadata": {},
   "source": [
    "## Generate Cities List"
   ]
  },
  {
   "cell_type": "code",
   "execution_count": 4,
   "metadata": {},
   "outputs": [
    {
     "data": {
      "text/plain": [
       "596"
      ]
     },
     "execution_count": 4,
     "metadata": {},
     "output_type": "execute_result"
    }
   ],
   "source": [
    "\n",
    "# List for holding lat_lngs and cities\n",
    "lat_lngs = []\n",
    "cities = []\n",
    "\n",
    "# Create a set of random lat and lng combinations\n",
    "lats = np.random.uniform(lat_range[0], lat_range[1], size=1500)\n",
    "lngs = np.random.uniform(lng_range[0], lng_range[1], size=1500)\n",
    "lat_lngs = zip(lats, lngs)\n",
    "\n",
    "# Identify nearest city for each lat, lng combination\n",
    "for lat_lng in lat_lngs:\n",
    "    city = citipy.nearest_city(lat_lng[0], lat_lng[1]).city_name\n",
    "    \n",
    "    # If the city is unique, then add it to a our cities list\n",
    "    if city not in cities:\n",
    "        cities.append(city)\n",
    "\n",
    "# Print the city count to confirm sufficient count\n",
    "len(cities)"
   ]
  },
  {
   "cell_type": "code",
   "execution_count": 5,
   "metadata": {},
   "outputs": [],
   "source": [
    "# List to perform API calls\n",
    "city_name = []\n",
    "cloudiness = []\n",
    "country = []\n",
    "date = []\n",
    "humidity = []\n",
    "lat = []\n",
    "lng = []\n",
    "max_temp = []\n",
    "wind_speed = []\n",
    "record_counter = 0\n",
    "set_counter = 1"
   ]
  },
  {
   "cell_type": "markdown",
   "metadata": {},
   "source": [
    "### Perform API Calls\n",
    "* Perform a weather check on each city using a series of successive API calls.\n",
    "* Include a print log of each city as it'sbeing processed (with the city number and city name).\n"
   ]
  },
  {
   "cell_type": "code",
   "execution_count": 6,
   "metadata": {
    "scrolled": true
   },
   "outputs": [
    {
     "name": "stdout",
     "output_type": "stream",
     "text": [
      "Begin Data Retrieval \n",
      "-----------------------------\n",
      "Processing Record 1 of Set 1 : upernavik\n",
      "Processing Record 2 of Set 1 : bluff\n",
      "Processing Record 3 of Set 1 : sitka\n",
      "Processing Record 4 of Set 1 : hami\n",
      "Processing Record 5 of Set 1 : soeng sang\n",
      "Processing Record 6 of Set 1 : lyaskelya\n",
      "Processing Record 7 of Set 1 : busselton\n",
      "Processing Record 8 of Set 1 : rikitea\n",
      "Processing Record 9 of Set 1 : barrow\n",
      "Processing Record 10 of Set 1 : ushuaia\n",
      "Processing Record 11 of Set 1 : biak\n",
      "Processing Record 12 of Set 1 : albany\n",
      "Processing Record 13 of Set 1 : bethel\n",
      "Processing Record 14 of Set 1 : coihaique\n",
      "Processing Record 15 of Set 1 : saskylakh\n",
      "Processing Record 16 of Set 1 : puerto ayora\n",
      "Record not found.\n",
      "Processing Record 17 of Set 1 : sao francisco de paula\n",
      "Record not found.\n",
      "Processing Record 18 of Set 1 : taoudenni\n",
      "Record not found.\n",
      "Processing Record 19 of Set 1 : mataura\n",
      "Processing Record 20 of Set 1 : tamiahua\n",
      "Processing Record 21 of Set 1 : kapaa\n",
      "Processing Record 22 of Set 1 : rongcheng\n",
      "Processing Record 23 of Set 1 : cairns\n",
      "Processing Record 24 of Set 1 : new norfolk\n",
      "Processing Record 25 of Set 1 : hilo\n",
      "Processing Record 26 of Set 1 : tuktoyaktuk\n",
      "Processing Record 27 of Set 1 : leningradskiy\n",
      "Processing Record 28 of Set 1 : krasnyy kut\n",
      "Processing Record 29 of Set 1 : hambantota\n",
      "Processing Record 30 of Set 1 : najran\n",
      "Processing Record 31 of Set 1 : fairbanks\n",
      "Processing Record 32 of Set 1 : castro\n",
      "Processing Record 33 of Set 1 : hermanus\n",
      "Processing Record 34 of Set 1 : eyl\n",
      "Processing Record 35 of Set 1 : muros\n",
      "Record not found.\n",
      "Processing Record 36 of Set 1 : northam\n",
      "Processing Record 37 of Set 1 : victoria\n",
      "Processing Record 38 of Set 1 : cockburn town\n",
      "Processing Record 39 of Set 1 : ribas do rio pardo\n",
      "Record not found.\n",
      "Processing Record 40 of Set 1 : sambava\n",
      "Processing Record 41 of Set 1 : landeck\n",
      "Processing Record 42 of Set 1 : naze\n",
      "Processing Record 43 of Set 1 : bathsheba\n",
      "Record not found.\n",
      "Processing Record 44 of Set 1 : chokurdakh\n",
      "Processing Record 45 of Set 1 : malinyi\n",
      "Processing Record 46 of Set 1 : ileza\n",
      "Processing Record 47 of Set 1 : carnarvon\n",
      "Processing Record 48 of Set 1 : mayuge\n",
      "Processing Record 49 of Set 1 : tautira\n",
      "Record not found.\n",
      "Processing Record 50 of Set 1 : saint-augustin\n",
      "Processing Record 51 of Set 1 : udomlya\n",
      "Processing Record 0 of Set 2 : afua\n",
      "Processing Record 1 of Set 2 : mahebourg\n",
      "Processing Record 2 of Set 2 : beira\n",
      "Processing Record 3 of Set 2 : goderich\n",
      "Processing Record 4 of Set 2 : juneau\n",
      "Processing Record 5 of Set 2 : torbay\n",
      "Processing Record 6 of Set 2 : port elizabeth\n",
      "Processing Record 7 of Set 2 : haines junction\n",
      "Processing Record 8 of Set 2 : punta arenas\n",
      "Processing Record 9 of Set 2 : ostrovnoy\n",
      "Processing Record 10 of Set 2 : jagdalpur\n",
      "Record not found.\n",
      "Processing Record 11 of Set 2 : east london\n",
      "Processing Record 12 of Set 2 : nikolskoye\n",
      "Processing Record 13 of Set 2 : urengoy\n",
      "Processing Record 14 of Set 2 : brae\n",
      "Processing Record 15 of Set 2 : yining\n",
      "Record not found.\n",
      "Processing Record 16 of Set 2 : bengkulu\n",
      "Processing Record 17 of Set 2 : ringebu\n",
      "Processing Record 18 of Set 2 : san cristobal\n",
      "Record not found.\n",
      "Processing Record 19 of Set 2 : bonavista\n",
      "Record not found.\n",
      "Processing Record 20 of Set 2 : kysyl-syr\n",
      "Processing Record 21 of Set 2 : provideniya\n",
      "Processing Record 22 of Set 2 : ancud\n",
      "Processing Record 23 of Set 2 : santa lucia\n",
      "Processing Record 24 of Set 2 : chicama\n",
      "Processing Record 25 of Set 2 : port alfred\n",
      "Processing Record 26 of Set 2 : kuryk\n",
      "Processing Record 27 of Set 2 : titay\n",
      "Processing Record 28 of Set 2 : asti\n",
      "Record not found.\n",
      "Processing Record 29 of Set 2 : kernersville\n",
      "Processing Record 30 of Set 2 : mar del plata\n",
      "Processing Record 31 of Set 2 : cabo san lucas\n",
      "Processing Record 32 of Set 2 : tougue\n",
      "Processing Record 33 of Set 2 : bredasdorp\n",
      "Processing Record 34 of Set 2 : jamestown\n",
      "Processing Record 35 of Set 2 : cape town\n",
      "Record not found.\n",
      "Processing Record 36 of Set 2 : vaini\n",
      "Processing Record 37 of Set 2 : norman wells\n",
      "Processing Record 38 of Set 2 : nome\n",
      "Processing Record 39 of Set 2 : shache\n",
      "Processing Record 40 of Set 2 : raudeberg\n",
      "Processing Record 41 of Set 2 : pangody\n",
      "Processing Record 42 of Set 2 : kondinskoye\n",
      "Processing Record 43 of Set 2 : mgandu\n",
      "Processing Record 44 of Set 2 : la rioja\n",
      "Processing Record 45 of Set 2 : pacific grove\n",
      "Processing Record 46 of Set 2 : yellowknife\n",
      "Record not found.\n",
      "Processing Record 47 of Set 2 : fort nelson\n",
      "Processing Record 48 of Set 2 : turukhansk\n",
      "Processing Record 49 of Set 2 : lagoa\n",
      "Processing Record 50 of Set 2 : atuona\n",
      "Processing Record 51 of Set 2 : qaanaaq\n",
      "Record not found.\n",
      "Processing Record 0 of Set 3 : adwa\n",
      "Processing Record 1 of Set 3 : pokoynoye\n",
      "Processing Record 2 of Set 3 : esperance\n",
      "Processing Record 3 of Set 3 : opuwo\n",
      "Processing Record 4 of Set 3 : wattegama\n",
      "Processing Record 5 of Set 3 : dingle\n",
      "Processing Record 6 of Set 3 : pauini\n",
      "Processing Record 7 of Set 3 : georgetown\n",
      "Processing Record 8 of Set 3 : luderitz\n",
      "Processing Record 9 of Set 3 : severo-kurilsk\n",
      "Processing Record 10 of Set 3 : pemberton\n",
      "Processing Record 11 of Set 3 : severnoye\n",
      "Processing Record 12 of Set 3 : benghazi\n",
      "Processing Record 13 of Set 3 : kahului\n",
      "Processing Record 14 of Set 3 : endicott\n",
      "Processing Record 15 of Set 3 : dzaoudzi\n",
      "Processing Record 16 of Set 3 : pevek\n",
      "Processing Record 17 of Set 3 : chapaevsk\n",
      "Record not found.\n",
      "Processing Record 18 of Set 3 : high level\n",
      "Processing Record 19 of Set 3 : naliya\n",
      "Processing Record 20 of Set 3 : codrington\n",
      "Processing Record 21 of Set 3 : samoded\n",
      "Processing Record 22 of Set 3 : cherskiy\n",
      "Record not found.\n",
      "Processing Record 23 of Set 3 : saint george\n",
      "Processing Record 24 of Set 3 : ixtapa\n",
      "Processing Record 25 of Set 3 : sola\n",
      "Processing Record 26 of Set 3 : gingoog\n",
      "Processing Record 27 of Set 3 : touros\n",
      "Processing Record 28 of Set 3 : poum\n",
      "Processing Record 29 of Set 3 : harper\n",
      "Processing Record 30 of Set 3 : ormara\n",
      "Processing Record 31 of Set 3 : poselki\n",
      "Processing Record 32 of Set 3 : cayenne\n",
      "Processing Record 33 of Set 3 : kaitangata\n",
      "Record not found.\n",
      "Processing Record 34 of Set 3 : morehead\n",
      "Processing Record 35 of Set 3 : yulara\n",
      "Processing Record 36 of Set 3 : khatanga\n",
      "Processing Record 37 of Set 3 : namibe\n",
      "Processing Record 38 of Set 3 : taraz\n",
      "Processing Record 39 of Set 3 : lubao\n",
      "Processing Record 40 of Set 3 : kruisfontein\n",
      "Processing Record 41 of Set 3 : tiksi\n",
      "Processing Record 42 of Set 3 : reinosa\n",
      "Processing Record 43 of Set 3 : san patricio\n",
      "Processing Record 44 of Set 3 : west wendover\n",
      "Processing Record 45 of Set 3 : belmonte\n",
      "Processing Record 46 of Set 3 : bambous virieux\n",
      "Processing Record 47 of Set 3 : xingyi\n",
      "Processing Record 48 of Set 3 : thompson\n",
      "Processing Record 49 of Set 3 : ca mau\n",
      "Processing Record 50 of Set 3 : sofiyivka\n",
      "Processing Record 51 of Set 3 : karlskrona\n",
      "Processing Record 0 of Set 4 : lasa\n",
      "Processing Record 1 of Set 4 : samut songkhram\n",
      "Processing Record 2 of Set 4 : batemans bay\n",
      "Processing Record 3 of Set 4 : ucluelet\n",
      "Processing Record 4 of Set 4 : aklavik\n",
      "Processing Record 5 of Set 4 : pisco\n",
      "Processing Record 6 of Set 4 : faanui\n",
      "Processing Record 7 of Set 4 : betare oya\n",
      "Processing Record 8 of Set 4 : perth\n",
      "Processing Record 9 of Set 4 : zyryanka\n",
      "Processing Record 10 of Set 4 : tabou\n",
      "Processing Record 11 of Set 4 : gao\n",
      "Record not found.\n",
      "Processing Record 12 of Set 4 : atakpame\n",
      "Processing Record 13 of Set 4 : hasaki\n",
      "Record not found.\n",
      "Processing Record 14 of Set 4 : geraldton\n",
      "Processing Record 15 of Set 4 : rochester\n",
      "Processing Record 16 of Set 4 : de aar\n",
      "Processing Record 17 of Set 4 : tiassale\n",
      "Processing Record 18 of Set 4 : hobart\n",
      "Processing Record 19 of Set 4 : flinders\n",
      "Processing Record 20 of Set 4 : sao felix do xingu\n",
      "Processing Record 21 of Set 4 : constitucion\n",
      "Processing Record 22 of Set 4 : lodwar\n",
      "Processing Record 23 of Set 4 : san pedro\n",
      "Record not found.\n",
      "Processing Record 24 of Set 4 : ullapool\n",
      "Processing Record 25 of Set 4 : kapuskasing\n",
      "Processing Record 26 of Set 4 : lata\n",
      "Processing Record 27 of Set 4 : griffith\n",
      "Processing Record 28 of Set 4 : roros\n",
      "Processing Record 29 of Set 4 : talnakh\n",
      "Processing Record 30 of Set 4 : kalemie\n",
      "Processing Record 31 of Set 4 : maragogi\n",
      "Processing Record 32 of Set 4 : bonthe\n",
      "Processing Record 33 of Set 4 : wajima\n",
      "Processing Record 34 of Set 4 : portland\n"
     ]
    },
    {
     "name": "stdout",
     "output_type": "stream",
     "text": [
      "Processing Record 35 of Set 4 : kautokeino\n",
      "Processing Record 36 of Set 4 : hithadhoo\n",
      "Processing Record 37 of Set 4 : sakakah\n",
      "Processing Record 38 of Set 4 : kodiak\n",
      "Processing Record 39 of Set 4 : kashi\n",
      "Processing Record 40 of Set 4 : alofi\n",
      "Processing Record 41 of Set 4 : lake havasu city\n",
      "Processing Record 42 of Set 4 : fortuna\n",
      "Processing Record 43 of Set 4 : kodinsk\n",
      "Processing Record 44 of Set 4 : trapani\n",
      "Processing Record 45 of Set 4 : kenai\n",
      "Processing Record 46 of Set 4 : itarema\n",
      "Processing Record 47 of Set 4 : upata\n",
      "Processing Record 48 of Set 4 : chuy\n",
      "Processing Record 49 of Set 4 : auki\n",
      "Processing Record 50 of Set 4 : shaoyang\n",
      "Processing Record 51 of Set 4 : puerto escondido\n",
      "Record not found.\n",
      "Processing Record 0 of Set 5 : tuatapere\n",
      "Processing Record 1 of Set 5 : vostok\n",
      "Processing Record 2 of Set 5 : nuuk\n",
      "Processing Record 3 of Set 5 : saint-philippe\n",
      "Processing Record 4 of Set 5 : texarkana\n",
      "Processing Record 5 of Set 5 : bubaque\n",
      "Processing Record 6 of Set 5 : phan thiet\n",
      "Processing Record 7 of Set 5 : shu\n",
      "Processing Record 8 of Set 5 : matay\n",
      "Processing Record 9 of Set 5 : nanortalik\n",
      "Processing Record 10 of Set 5 : marzuq\n",
      "Processing Record 11 of Set 5 : vao\n",
      "Processing Record 12 of Set 5 : yumen\n",
      "Processing Record 13 of Set 5 : tongzi\n",
      "Processing Record 14 of Set 5 : inhambane\n",
      "Processing Record 15 of Set 5 : ust-kuyga\n",
      "Processing Record 16 of Set 5 : vardo\n",
      "Processing Record 17 of Set 5 : makat\n",
      "Processing Record 18 of Set 5 : riyadh\n",
      "Processing Record 19 of Set 5 : butaritari\n",
      "Processing Record 20 of Set 5 : koslan\n",
      "Processing Record 21 of Set 5 : san quintin\n",
      "Processing Record 22 of Set 5 : kortkeros\n",
      "Processing Record 23 of Set 5 : pokhara\n",
      "Processing Record 24 of Set 5 : avarua\n",
      "Processing Record 25 of Set 5 : comodoro rivadavia\n",
      "Processing Record 26 of Set 5 : encheng\n",
      "Processing Record 27 of Set 5 : rocha\n",
      "Processing Record 28 of Set 5 : irbeyskoye\n",
      "Record not found.\n",
      "Processing Record 29 of Set 5 : charlestown\n",
      "Processing Record 30 of Set 5 : abong mbang\n",
      "Processing Record 31 of Set 5 : puro\n",
      "Processing Record 32 of Set 5 : krasnoselkup\n",
      "Record not found.\n",
      "Processing Record 33 of Set 5 : barra do garcas\n",
      "Processing Record 34 of Set 5 : shetpe\n",
      "Processing Record 35 of Set 5 : sault sainte marie\n",
      "Processing Record 36 of Set 5 : luganville\n",
      "Processing Record 37 of Set 5 : cidreira\n",
      "Processing Record 38 of Set 5 : carutapera\n",
      "Processing Record 39 of Set 5 : buin\n",
      "Processing Record 40 of Set 5 : gusau\n",
      "Processing Record 41 of Set 5 : amnat charoen\n",
      "Processing Record 42 of Set 5 : chambas\n",
      "Processing Record 43 of Set 5 : klaksvik\n",
      "Processing Record 44 of Set 5 : lander\n",
      "Processing Record 45 of Set 5 : woodward\n",
      "Processing Record 46 of Set 5 : ribeira grande\n",
      "Processing Record 47 of Set 5 : joensuu\n",
      "Processing Record 48 of Set 5 : sao filipe\n",
      "Record not found.\n",
      "Record not found.\n",
      "Processing Record 49 of Set 5 : tanout\n",
      "Processing Record 50 of Set 5 : dikson\n",
      "Processing Record 51 of Set 5 : aleksandrov gay\n",
      "Processing Record 0 of Set 6 : stornoway\n",
      "Processing Record 1 of Set 6 : de-kastri\n",
      "Processing Record 2 of Set 6 : saint-paul\n",
      "Processing Record 3 of Set 6 : macusani\n",
      "Processing Record 4 of Set 6 : ponce\n",
      "Processing Record 5 of Set 6 : touba\n",
      "Processing Record 6 of Set 6 : lavrentiya\n",
      "Record not found.\n",
      "Record not found.\n",
      "Processing Record 7 of Set 6 : merauke\n",
      "Processing Record 8 of Set 6 : kasane\n",
      "Processing Record 9 of Set 6 : florianopolis\n",
      "Processing Record 10 of Set 6 : puerto carreno\n",
      "Processing Record 11 of Set 6 : broome\n",
      "Processing Record 12 of Set 6 : murgab\n",
      "Processing Record 13 of Set 6 : burnie\n",
      "Processing Record 14 of Set 6 : moranbah\n",
      "Processing Record 15 of Set 6 : mount isa\n",
      "Processing Record 16 of Set 6 : ponta do sol\n",
      "Processing Record 17 of Set 6 : kaeo\n",
      "Processing Record 18 of Set 6 : ilulissat\n",
      "Record not found.\n",
      "Processing Record 19 of Set 6 : airai\n",
      "Processing Record 20 of Set 6 : moindou\n",
      "Processing Record 21 of Set 6 : amazar\n",
      "Record not found.\n",
      "Processing Record 22 of Set 6 : riposto\n",
      "Processing Record 23 of Set 6 : saint-pierre\n",
      "Processing Record 24 of Set 6 : lorengau\n",
      "Processing Record 25 of Set 6 : umm lajj\n",
      "Processing Record 26 of Set 6 : quatre cocos\n",
      "Processing Record 27 of Set 6 : husavik\n",
      "Processing Record 28 of Set 6 : kutum\n",
      "Processing Record 29 of Set 6 : stepnogorsk\n",
      "Processing Record 30 of Set 6 : hobyo\n",
      "Processing Record 31 of Set 6 : mindelo\n",
      "Processing Record 32 of Set 6 : petropavlovsk-kamchatskiy\n",
      "Processing Record 33 of Set 6 : hofn\n",
      "Processing Record 34 of Set 6 : tank\n",
      "Processing Record 35 of Set 6 : lebu\n",
      "Processing Record 36 of Set 6 : mokhsogollokh\n",
      "Processing Record 37 of Set 6 : suclayin\n",
      "Processing Record 38 of Set 6 : lompoc\n",
      "Processing Record 39 of Set 6 : owando\n",
      "Processing Record 40 of Set 6 : abu kamal\n",
      "Processing Record 41 of Set 6 : labuhan\n",
      "Processing Record 42 of Set 6 : moron\n",
      "Record not found.\n",
      "Processing Record 43 of Set 6 : oga\n",
      "Processing Record 44 of Set 6 : pangnirtung\n",
      "Processing Record 45 of Set 6 : whitianga\n",
      "Processing Record 46 of Set 6 : sao marcos\n",
      "Record not found.\n",
      "Processing Record 47 of Set 6 : olafsvik\n",
      "Processing Record 48 of Set 6 : vanderhoof\n",
      "Processing Record 49 of Set 6 : avera\n",
      "Processing Record 50 of Set 6 : san policarpo\n",
      "Processing Record 51 of Set 6 : podlesnoye\n",
      "Processing Record 0 of Set 7 : odessa\n",
      "Processing Record 1 of Set 7 : jieshi\n",
      "Processing Record 2 of Set 7 : laredo\n",
      "Processing Record 3 of Set 7 : cabo rojo\n",
      "Processing Record 4 of Set 7 : mayo\n",
      "Processing Record 5 of Set 7 : mustafakemalpasa\n",
      "Record not found.\n",
      "Processing Record 6 of Set 7 : port moresby\n",
      "Record not found.\n",
      "Processing Record 7 of Set 7 : kutiyana\n",
      "Processing Record 8 of Set 7 : longyearbyen\n",
      "Processing Record 9 of Set 7 : santa maria\n",
      "Processing Record 10 of Set 7 : gat\n",
      "Processing Record 11 of Set 7 : polovinnoye\n",
      "Processing Record 12 of Set 7 : ludwigsfelde\n",
      "Processing Record 13 of Set 7 : port lincoln\n",
      "Processing Record 14 of Set 7 : baykit\n",
      "Processing Record 15 of Set 7 : sibolga\n",
      "Processing Record 16 of Set 7 : xuanzhou\n",
      "Processing Record 17 of Set 7 : nemuro\n",
      "Processing Record 18 of Set 7 : hay river\n",
      "Processing Record 19 of Set 7 : belyy yar\n",
      "Processing Record 20 of Set 7 : tianpeng\n",
      "Processing Record 21 of Set 7 : tukrah\n",
      "Processing Record 22 of Set 7 : taian\n",
      "Processing Record 23 of Set 7 : sistranda\n",
      "Processing Record 24 of Set 7 : tlacojalpan\n",
      "Processing Record 25 of Set 7 : isangel\n",
      "Processing Record 26 of Set 7 : karaton\n",
      "Processing Record 27 of Set 7 : pleasanton\n",
      "Processing Record 28 of Set 7 : bollnas\n",
      "Processing Record 29 of Set 7 : sinnamary\n",
      "Processing Record 30 of Set 7 : khani\n",
      "Processing Record 31 of Set 7 : ranfurly\n",
      "Processing Record 32 of Set 7 : chapais\n",
      "Processing Record 33 of Set 7 : ambanja\n",
      "Processing Record 34 of Set 7 : jasper\n",
      "Processing Record 35 of Set 7 : taltal\n",
      "Processing Record 36 of Set 7 : villa bruzual\n",
      "Processing Record 37 of Set 7 : bridgetown\n",
      "Processing Record 38 of Set 7 : tazovskiy\n",
      "Processing Record 39 of Set 7 : savonlinna\n",
      "Processing Record 40 of Set 7 : tungor\n",
      "Processing Record 41 of Set 7 : port maria\n",
      "Processing Record 42 of Set 7 : alur\n",
      "Processing Record 43 of Set 7 : ixcatepec\n",
      "Processing Record 44 of Set 7 : narsaq\n",
      "Processing Record 45 of Set 7 : aguimes\n",
      "Processing Record 46 of Set 7 : vestmannaeyjar\n",
      "Processing Record 47 of Set 7 : grand gaube\n",
      "Processing Record 48 of Set 7 : martil\n",
      "Record not found.\n",
      "Processing Record 49 of Set 7 : eureka\n",
      "Record not found.\n",
      "Processing Record 50 of Set 7 : chute-aux-outardes\n",
      "Processing Record 51 of Set 7 : machilipatnam\n",
      "Processing Record 0 of Set 8 : sao joao da barra\n",
      "Processing Record 1 of Set 8 : richards bay\n",
      "Processing Record 2 of Set 8 : kerema\n",
      "Processing Record 3 of Set 8 : orsha\n",
      "Processing Record 4 of Set 8 : leshukonskoye\n",
      "Processing Record 5 of Set 8 : waipawa\n",
      "Processing Record 6 of Set 8 : trabzon\n",
      "Processing Record 7 of Set 8 : tutoia\n",
      "Processing Record 8 of Set 8 : margate\n",
      "Processing Record 9 of Set 8 : togur\n",
      "Record not found.\n",
      "Processing Record 10 of Set 8 : nha trang\n",
      "Processing Record 11 of Set 8 : college\n",
      "Processing Record 12 of Set 8 : arraial do cabo\n",
      "Processing Record 13 of Set 8 : pilani\n",
      "Processing Record 14 of Set 8 : bentiu\n",
      "Processing Record 15 of Set 8 : keningau\n",
      "Processing Record 16 of Set 8 : sinazongwe\n",
      "Processing Record 17 of Set 8 : gondanglegi\n",
      "Processing Record 18 of Set 8 : la tuque\n",
      "Processing Record 19 of Set 8 : itamaraca\n"
     ]
    },
    {
     "name": "stdout",
     "output_type": "stream",
     "text": [
      "Processing Record 20 of Set 8 : freital\n",
      "Processing Record 21 of Set 8 : tomatlan\n",
      "Processing Record 22 of Set 8 : alanya\n",
      "Processing Record 23 of Set 8 : adrar\n",
      "Processing Record 24 of Set 8 : roswell\n",
      "Processing Record 25 of Set 8 : sol-iletsk\n",
      "Processing Record 26 of Set 8 : ketchikan\n",
      "Processing Record 27 of Set 8 : waddan\n",
      "Processing Record 28 of Set 8 : labytnangi\n",
      "Processing Record 29 of Set 8 : balabac\n",
      "Processing Record 30 of Set 8 : manggar\n",
      "Processing Record 31 of Set 8 : pemangkat\n",
      "Processing Record 32 of Set 8 : pervoye maya\n",
      "Processing Record 33 of Set 8 : caravelas\n",
      "Record not found.\n",
      "Record not found.\n",
      "Processing Record 34 of Set 8 : alice springs\n",
      "Processing Record 35 of Set 8 : otaru\n",
      "Processing Record 36 of Set 8 : hamina\n",
      "Processing Record 37 of Set 8 : alta floresta\n",
      "Processing Record 38 of Set 8 : sondrio\n",
      "Processing Record 39 of Set 8 : tocopilla\n",
      "Processing Record 40 of Set 8 : iqaluit\n",
      "Processing Record 41 of Set 8 : coquimbo\n",
      "Processing Record 42 of Set 8 : namatanai\n",
      "Processing Record 43 of Set 8 : hamilton\n",
      "Processing Record 44 of Set 8 : asau\n",
      "Record not found.\n",
      "Processing Record 45 of Set 8 : yulin\n",
      "Processing Record 46 of Set 8 : chaves\n",
      "Record not found.\n",
      "Processing Record 47 of Set 8 : tual\n",
      "Processing Record 48 of Set 8 : mount gambier\n",
      "Processing Record 49 of Set 8 : brejo\n",
      "Processing Record 50 of Set 8 : novokuznetsk\n",
      "Record not found.\n",
      "Processing Record 51 of Set 8 : mora\n",
      "Processing Record 0 of Set 9 : amapa\n",
      "Processing Record 1 of Set 9 : wismar\n",
      "Processing Record 2 of Set 9 : ambilobe\n",
      "Processing Record 3 of Set 9 : sobolevo\n",
      "Record not found.\n",
      "Processing Record 4 of Set 9 : tyrma\n",
      "Processing Record 5 of Set 9 : biloela\n",
      "Processing Record 6 of Set 9 : garoua boulai\n",
      "Processing Record 7 of Set 9 : conceicao do araguaia\n",
      "Processing Record 8 of Set 9 : tacuarembo\n",
      "Processing Record 9 of Set 9 : bela\n",
      "Processing Record 10 of Set 9 : trairi\n",
      "Processing Record 11 of Set 9 : kidal\n",
      "Processing Record 12 of Set 9 : pochutla\n",
      "Processing Record 13 of Set 9 : poronaysk\n",
      "Processing Record 14 of Set 9 : necochea\n",
      "Processing Record 15 of Set 9 : george town\n",
      "Record not found.\n",
      "Processing Record 16 of Set 9 : fort beaufort\n",
      "Processing Record 17 of Set 9 : copiapo\n",
      "Processing Record 18 of Set 9 : sillod\n",
      "Processing Record 19 of Set 9 : veliko gradiste\n",
      "Processing Record 20 of Set 9 : whitehorse\n",
      "Processing Record 21 of Set 9 : kavaratti\n",
      "Processing Record 22 of Set 9 : soyo\n",
      "Processing Record 23 of Set 9 : xinqing\n",
      "Processing Record 24 of Set 9 : korla\n",
      "Processing Record 25 of Set 9 : erzin\n",
      "Processing Record 26 of Set 9 : zvornik\n",
      "Processing Record 27 of Set 9 : kilindoni\n",
      "Processing Record 28 of Set 9 : kotdwara\n",
      "Processing Record 29 of Set 9 : vila franca do campo\n",
      "Record not found.\n",
      "Processing Record 30 of Set 9 : tamboril\n",
      "Processing Record 31 of Set 9 : tanete\n",
      "Processing Record 32 of Set 9 : ngunguru\n",
      "Processing Record 33 of Set 9 : leopold\n",
      "Processing Record 34 of Set 9 : saint-joseph\n",
      "Record not found.\n",
      "Processing Record 35 of Set 9 : rock island\n",
      "Processing Record 36 of Set 9 : vostochnyy\n",
      "Processing Record 37 of Set 9 : foshan\n",
      "Processing Record 38 of Set 9 : palmer\n",
      "Processing Record 39 of Set 9 : diamantina\n",
      "Processing Record 40 of Set 9 : feijo\n",
      "Processing Record 41 of Set 9 : novobureyskiy\n",
      "Processing Record 42 of Set 9 : gottingen\n",
      "Processing Record 43 of Set 9 : alakurtti\n",
      "Record not found.\n",
      "Processing Record 44 of Set 9 : ilovlya\n",
      "Processing Record 45 of Set 9 : saldanha\n",
      "Processing Record 46 of Set 9 : malazgirt\n",
      "Processing Record 47 of Set 9 : rawson\n",
      "Processing Record 48 of Set 9 : yinchuan\n",
      "Processing Record 49 of Set 9 : clyde river\n",
      "Processing Record 50 of Set 9 : fray bentos\n",
      "Processing Record 51 of Set 9 : kendari\n",
      "Processing Record 0 of Set 10 : yakovlevka\n",
      "Processing Record 1 of Set 10 : desaguadero\n",
      "Processing Record 2 of Set 10 : paita\n",
      "Processing Record 3 of Set 10 : kango\n",
      "Processing Record 4 of Set 10 : mosquera\n",
      "Processing Record 5 of Set 10 : yerbogachen\n",
      "Processing Record 6 of Set 10 : hurghada\n",
      "Processing Record 7 of Set 10 : sidlaghatta\n",
      "Processing Record 8 of Set 10 : ternate\n",
      "Processing Record 9 of Set 10 : udachnyy\n",
      "Processing Record 10 of Set 10 : kabanjahe\n",
      "Processing Record 11 of Set 10 : qeshm\n",
      "Processing Record 12 of Set 10 : san carlos de bariloche\n",
      "Processing Record 13 of Set 10 : havre-saint-pierre\n",
      "Processing Record 14 of Set 10 : zhob\n",
      "Processing Record 15 of Set 10 : yingcheng\n",
      "Processing Record 16 of Set 10 : casino\n",
      "Processing Record 17 of Set 10 : port hedland\n",
      "Processing Record 18 of Set 10 : bakel\n",
      "Processing Record 19 of Set 10 : port hardy\n",
      "Processing Record 20 of Set 10 : dafeng\n",
      "Processing Record 21 of Set 10 : bizhbulyak\n",
      "Processing Record 22 of Set 10 : acapulco\n",
      "Processing Record 23 of Set 10 : abu samrah\n",
      "Processing Record 24 of Set 10 : ahipara\n",
      "Processing Record 25 of Set 10 : north branch\n",
      "Record not found.\n",
      "Processing Record 26 of Set 10 : marawi\n",
      "Processing Record 27 of Set 10 : santa cecilia\n",
      "Processing Record 28 of Set 10 : rio gallegos\n",
      "Processing Record 29 of Set 10 : te anau\n",
      "Processing Record 30 of Set 10 : bonnyville\n",
      "Processing Record 31 of Set 10 : vaijapur\n",
      "Processing Record 32 of Set 10 : general cepeda\n",
      "Record not found.\n",
      "Processing Record 33 of Set 10 : grindavik\n",
      "Processing Record 34 of Set 10 : goulburn\n",
      "Processing Record 35 of Set 10 : piacabucu\n",
      "Processing Record 36 of Set 10 : ganzhou\n",
      "Processing Record 37 of Set 10 : fontem\n",
      "Processing Record 38 of Set 10 : tasiilaq\n",
      "Processing Record 39 of Set 10 : thinadhoo\n",
      "Processing Record 40 of Set 10 : linqiong\n",
      "Processing Record 41 of Set 10 : thunder bay\n",
      "Processing Record 42 of Set 10 : shepsi\n",
      "Processing Record 43 of Set 10 : nola\n",
      "Processing Record 44 of Set 10 : nikki\n",
      "Processing Record 45 of Set 10 : temiscaming\n",
      "Processing Record 46 of Set 10 : sinegorye\n",
      "Processing Record 47 of Set 10 : kindu\n",
      "Processing Record 48 of Set 10 : gizo\n",
      "Processing Record 49 of Set 10 : cotonou\n",
      "Processing Record 50 of Set 10 : aswan\n",
      "Processing Record 51 of Set 10 : colac\n",
      "Processing Record 0 of Set 11 : muyezerskiy\n",
      "Processing Record 1 of Set 11 : omboue\n",
      "Processing Record 2 of Set 11 : sampit\n",
      "Processing Record 3 of Set 11 : mehamn\n",
      "Record not found.\n",
      "Processing Record 4 of Set 11 : broken hill\n",
      "Processing Record 5 of Set 11 : niagara falls\n",
      "Processing Record 6 of Set 11 : la asuncion\n",
      "Processing Record 7 of Set 11 : suileng\n",
      "Processing Record 8 of Set 11 : arlit\n",
      "Processing Record 9 of Set 11 : souillac\n",
      "Processing Record 10 of Set 11 : jacqueville\n",
      "Processing Record 11 of Set 11 : erenhot\n",
      "Processing Record 12 of Set 11 : balikpapan\n",
      "Processing Record 13 of Set 11 : mayor pablo lagerenza\n",
      "Processing Record 14 of Set 11 : shido\n",
      "Processing Record 15 of Set 11 : lazaro cardenas\n",
      "Processing Record 16 of Set 11 : rock sound\n",
      "Processing Record 17 of Set 11 : tangzhai\n",
      "Processing Record 18 of Set 11 : bama\n",
      "Processing Record 19 of Set 11 : tres palos\n",
      "Processing Record 20 of Set 11 : kvarkeno\n",
      "Processing Record 21 of Set 11 : asyut\n",
      "Processing Record 22 of Set 11 : vizinga\n",
      "Processing Record 23 of Set 11 : los llanos de aridane\n",
      "Processing Record 24 of Set 11 : port hawkesbury\n",
      "Processing Record 25 of Set 11 : yaan\n",
      "Processing Record 26 of Set 11 : sawakin\n",
      "-----------------------------\n",
      "Data Retrieval Completed\n",
      "-----------------------------\n"
     ]
    }
   ],
   "source": [
    "print(\"Begin Data Retrieval \")\n",
    "print(\"-----------------------------\")\n",
    "\n",
    "base_url = \"http://api.openweathermap.org/data/2.5/weather?\"\n",
    "units = \"imperial\"\n",
    "query_url = f\"{base_url}appid={weather_api_key}&units={units}&q=\"\n",
    "\n",
    "\n",
    "# For each city name in cities list, do below things...\n",
    "for index, city in enumerate(cities, start = 1):\n",
    "    try:\n",
    "        response = requests.get(query_url + city).json()\n",
    "        city_name.append(response[\"name\"])\n",
    "        cloudiness.append(response[\"clouds\"][\"all\"])\n",
    "        country.append(response[\"sys\"][\"country\"])\n",
    "        date.append(response[\"dt\"])\n",
    "        humidity.append(response[\"main\"][\"humidity\"])\n",
    "        lat.append(response[\"coord\"][\"lat\"])\n",
    "        lng.append(response[\"coord\"][\"lon\"])\n",
    "        max_temp.append(response['main']['temp_max'])\n",
    "        wind_speed.append(response[\"wind\"][\"speed\"])\n",
    "        if record_counter > 50:\n",
    "            record_counter = 0\n",
    "            set_counter = set_counter + 1\n",
    "    \n",
    "        else:\n",
    "            record_counter = record_counter + 1\n",
    "            \n",
    "        print(f\"Processing Record {record_counter} of Set {set_counter} : {city}\") \n",
    "  \n",
    "    except(KeyError, IndexError):\n",
    "        print(\"Record not found.\")\n",
    "\n",
    "print(\"-----------------------------\")\n",
    "print(\"Data Retrieval Completed\")\n",
    "print(\"-----------------------------\")"
   ]
  },
  {
   "cell_type": "markdown",
   "metadata": {},
   "source": [
    "### Convert Raw Data to DataFrame\n",
    "* Export the city data into a .csv.\n",
    "* Display the DataFrame"
   ]
  },
  {
   "cell_type": "code",
   "execution_count": 9,
   "metadata": {},
   "outputs": [],
   "source": [
    "weather_dictionary = pd.DataFrame({\n",
    "                                  \"City\": city_name,\n",
    "                                  \"Cloudiness\": cloudiness,\n",
    "                                  \"Country\": country,\n",
    "                                  \"Date\": date,\n",
    "                                  \"Humidity\": humidity,\n",
    "                                  \"Lat\": lat,\n",
    "                                  \"Lng\": lng,\n",
    "                                  \"Max Temp\": max_temp,\n",
    "                                  \"Wind Speed\": wind_speed\n",
    "                                  })"
   ]
  },
  {
   "cell_type": "code",
   "execution_count": 10,
   "metadata": {},
   "outputs": [
    {
     "data": {
      "text/plain": [
       "City          546\n",
       "Cloudiness    546\n",
       "Country       546\n",
       "Date          546\n",
       "Humidity      546\n",
       "Lat           546\n",
       "Lng           546\n",
       "Max Temp      546\n",
       "Wind Speed    546\n",
       "dtype: int64"
      ]
     },
     "execution_count": 10,
     "metadata": {},
     "output_type": "execute_result"
    }
   ],
   "source": [
    "weather_dictionary.count()"
   ]
  },
  {
   "cell_type": "code",
   "execution_count": 12,
   "metadata": {},
   "outputs": [
    {
     "data": {
      "text/html": [
       "<div>\n",
       "<style scoped>\n",
       "    .dataframe tbody tr th:only-of-type {\n",
       "        vertical-align: middle;\n",
       "    }\n",
       "\n",
       "    .dataframe tbody tr th {\n",
       "        vertical-align: top;\n",
       "    }\n",
       "\n",
       "    .dataframe thead th {\n",
       "        text-align: right;\n",
       "    }\n",
       "</style>\n",
       "<table border=\"1\" class=\"dataframe\">\n",
       "  <thead>\n",
       "    <tr style=\"text-align: right;\">\n",
       "      <th></th>\n",
       "      <th>City</th>\n",
       "      <th>Cloudiness</th>\n",
       "      <th>Country</th>\n",
       "      <th>Date</th>\n",
       "      <th>Humidity</th>\n",
       "      <th>Lat</th>\n",
       "      <th>Lng</th>\n",
       "      <th>Max Temp</th>\n",
       "      <th>Wind Speed</th>\n",
       "    </tr>\n",
       "  </thead>\n",
       "  <tbody>\n",
       "    <tr>\n",
       "      <th>0</th>\n",
       "      <td>Upernavik</td>\n",
       "      <td>71</td>\n",
       "      <td>GL</td>\n",
       "      <td>1622263917</td>\n",
       "      <td>94</td>\n",
       "      <td>72.7868</td>\n",
       "      <td>-56.1549</td>\n",
       "      <td>27.16</td>\n",
       "      <td>8.57</td>\n",
       "    </tr>\n",
       "    <tr>\n",
       "      <th>1</th>\n",
       "      <td>Bluff</td>\n",
       "      <td>100</td>\n",
       "      <td>NZ</td>\n",
       "      <td>1622263918</td>\n",
       "      <td>80</td>\n",
       "      <td>-46.6000</td>\n",
       "      <td>168.3333</td>\n",
       "      <td>49.80</td>\n",
       "      <td>20.92</td>\n",
       "    </tr>\n",
       "    <tr>\n",
       "      <th>2</th>\n",
       "      <td>Sitka</td>\n",
       "      <td>90</td>\n",
       "      <td>US</td>\n",
       "      <td>1622263918</td>\n",
       "      <td>76</td>\n",
       "      <td>57.0531</td>\n",
       "      <td>-135.3300</td>\n",
       "      <td>48.09</td>\n",
       "      <td>9.22</td>\n",
       "    </tr>\n",
       "    <tr>\n",
       "      <th>3</th>\n",
       "      <td>Kumul</td>\n",
       "      <td>84</td>\n",
       "      <td>CN</td>\n",
       "      <td>1622263918</td>\n",
       "      <td>15</td>\n",
       "      <td>42.8000</td>\n",
       "      <td>93.4500</td>\n",
       "      <td>88.16</td>\n",
       "      <td>10.63</td>\n",
       "    </tr>\n",
       "    <tr>\n",
       "      <th>4</th>\n",
       "      <td>Soeng Sang</td>\n",
       "      <td>43</td>\n",
       "      <td>TH</td>\n",
       "      <td>1622263919</td>\n",
       "      <td>57</td>\n",
       "      <td>14.4264</td>\n",
       "      <td>102.4606</td>\n",
       "      <td>90.52</td>\n",
       "      <td>9.75</td>\n",
       "    </tr>\n",
       "    <tr>\n",
       "      <th>...</th>\n",
       "      <td>...</td>\n",
       "      <td>...</td>\n",
       "      <td>...</td>\n",
       "      <td>...</td>\n",
       "      <td>...</td>\n",
       "      <td>...</td>\n",
       "      <td>...</td>\n",
       "      <td>...</td>\n",
       "      <td>...</td>\n",
       "    </tr>\n",
       "    <tr>\n",
       "      <th>541</th>\n",
       "      <td>Vizinga</td>\n",
       "      <td>79</td>\n",
       "      <td>RU</td>\n",
       "      <td>1622264079</td>\n",
       "      <td>67</td>\n",
       "      <td>61.0749</td>\n",
       "      <td>50.1031</td>\n",
       "      <td>56.43</td>\n",
       "      <td>7.45</td>\n",
       "    </tr>\n",
       "    <tr>\n",
       "      <th>542</th>\n",
       "      <td>Los Llanos de Aridane</td>\n",
       "      <td>20</td>\n",
       "      <td>ES</td>\n",
       "      <td>1622263931</td>\n",
       "      <td>59</td>\n",
       "      <td>28.6585</td>\n",
       "      <td>-17.9182</td>\n",
       "      <td>62.35</td>\n",
       "      <td>10.42</td>\n",
       "    </tr>\n",
       "    <tr>\n",
       "      <th>543</th>\n",
       "      <td>Port Hawkesbury</td>\n",
       "      <td>1</td>\n",
       "      <td>CA</td>\n",
       "      <td>1622264080</td>\n",
       "      <td>78</td>\n",
       "      <td>45.6169</td>\n",
       "      <td>-61.3485</td>\n",
       "      <td>42.69</td>\n",
       "      <td>4.61</td>\n",
       "    </tr>\n",
       "    <tr>\n",
       "      <th>544</th>\n",
       "      <td>Yaan</td>\n",
       "      <td>100</td>\n",
       "      <td>NG</td>\n",
       "      <td>1622264080</td>\n",
       "      <td>88</td>\n",
       "      <td>7.3833</td>\n",
       "      <td>8.5667</td>\n",
       "      <td>76.24</td>\n",
       "      <td>3.36</td>\n",
       "    </tr>\n",
       "    <tr>\n",
       "      <th>545</th>\n",
       "      <td>Sawākin</td>\n",
       "      <td>42</td>\n",
       "      <td>SD</td>\n",
       "      <td>1622264081</td>\n",
       "      <td>74</td>\n",
       "      <td>19.1059</td>\n",
       "      <td>37.3321</td>\n",
       "      <td>86.09</td>\n",
       "      <td>5.12</td>\n",
       "    </tr>\n",
       "  </tbody>\n",
       "</table>\n",
       "<p>546 rows × 9 columns</p>\n",
       "</div>"
      ],
      "text/plain": [
       "                      City  Cloudiness Country        Date  Humidity      Lat  \\\n",
       "0                Upernavik          71      GL  1622263917        94  72.7868   \n",
       "1                    Bluff         100      NZ  1622263918        80 -46.6000   \n",
       "2                    Sitka          90      US  1622263918        76  57.0531   \n",
       "3                    Kumul          84      CN  1622263918        15  42.8000   \n",
       "4               Soeng Sang          43      TH  1622263919        57  14.4264   \n",
       "..                     ...         ...     ...         ...       ...      ...   \n",
       "541                Vizinga          79      RU  1622264079        67  61.0749   \n",
       "542  Los Llanos de Aridane          20      ES  1622263931        59  28.6585   \n",
       "543        Port Hawkesbury           1      CA  1622264080        78  45.6169   \n",
       "544                   Yaan         100      NG  1622264080        88   7.3833   \n",
       "545                Sawākin          42      SD  1622264081        74  19.1059   \n",
       "\n",
       "          Lng  Max Temp  Wind Speed  \n",
       "0    -56.1549     27.16        8.57  \n",
       "1    168.3333     49.80       20.92  \n",
       "2   -135.3300     48.09        9.22  \n",
       "3     93.4500     88.16       10.63  \n",
       "4    102.4606     90.52        9.75  \n",
       "..        ...       ...         ...  \n",
       "541   50.1031     56.43        7.45  \n",
       "542  -17.9182     62.35       10.42  \n",
       "543  -61.3485     42.69        4.61  \n",
       "544    8.5667     76.24        3.36  \n",
       "545   37.3321     86.09        5.12  \n",
       "\n",
       "[546 rows x 9 columns]"
      ]
     },
     "execution_count": 12,
     "metadata": {},
     "output_type": "execute_result"
    }
   ],
   "source": [
    "# Display the Data Frame\n",
    "\n",
    "weather_dictionary"
   ]
  },
  {
   "cell_type": "markdown",
   "metadata": {},
   "source": [
    "## Inspect the data and remove the cities where the humidity > 100%.\n",
    "----\n",
    "Skip this step if there are no cities that have humidity > 100%. "
   ]
  },
  {
   "cell_type": "code",
   "execution_count": null,
   "metadata": {},
   "outputs": [],
   "source": []
  },
  {
   "cell_type": "code",
   "execution_count": 7,
   "metadata": {},
   "outputs": [],
   "source": [
    "#  Get the indices of cities that have humidity over 100%.\n"
   ]
  },
  {
   "cell_type": "code",
   "execution_count": 8,
   "metadata": {},
   "outputs": [],
   "source": [
    "# Make a new DataFrame equal to the city data to drop all humidity outliers by index.\n",
    "# Passing \"inplace=False\" will make a copy of the city_data DataFrame, which we call \"clean_city_data\".\n"
   ]
  },
  {
   "cell_type": "code",
   "execution_count": null,
   "metadata": {},
   "outputs": [],
   "source": [
    "\n"
   ]
  },
  {
   "cell_type": "markdown",
   "metadata": {},
   "source": [
    "## Plotting the Data\n",
    "* Use proper labeling of the plots using plot titles (including date of analysis) and axes labels.\n",
    "* Save the plotted figures as .pngs."
   ]
  },
  {
   "cell_type": "markdown",
   "metadata": {},
   "source": [
    "## Latitude vs. Temperature Plot"
   ]
  },
  {
   "cell_type": "code",
   "execution_count": 13,
   "metadata": {
    "scrolled": true
   },
   "outputs": [
    {
     "data": {
      "image/png": "[encoded data removed]",
      "text/plain": [
       "<Figure size 432x288 with 1 Axes>"
      ]
     },
     "metadata": {
      "needs_background": "light"
     },
     "output_type": "display_data"
    }
   ],
   "source": [
    "plt.scatter(weather_dictionary[\"Lat\"], weather_dictionary[\"Max Temp\"])\n",
    "plt.title(\"Latitude vs. Temperature\")\n",
    "plt.xlabel(\"Latitude\")\n",
    "plt.ylabel(\"Temperature\")\n",
    "plt.savefig(\"../Images/Latitude vs Temperature.png\")"
   ]
  },
  {
   "cell_type": "markdown",
   "metadata": {},
   "source": [
    "## Latitude vs. Humidity Plot"
   ]
  },
  {
   "cell_type": "code",
   "execution_count": 14,
   "metadata": {},
   "outputs": [
    {
     "data": {
      "image/png": "[encoded data removed]",
      "text/plain": [
       "<Figure size 432x288 with 1 Axes>"
      ]
     },
     "metadata": {
      "needs_background": "light"
     },
     "output_type": "display_data"
    }
   ],
   "source": [
    "plt.scatter(weather_dictionary[\"Lat\"], weather_dictionary[\"Humidity\"])\n",
    "plt.title(\"Latitude vs. Humidity\")\n",
    "plt.xlabel(\"Latitude\")\n",
    "plt.ylabel(\"Humidity\")\n",
    "plt.savefig(\"../Images/Latitude vs Humidity.png\")"
   ]
  },
  {
   "cell_type": "markdown",
   "metadata": {},
   "source": [
    "## Latitude vs. Cloudiness Plot"
   ]
  },
  {
   "cell_type": "code",
   "execution_count": 15,
   "metadata": {},
   "outputs": [
    {
     "data": {
      "image/png": "[encoded data removed]",
      "text/plain": [
       "<Figure size 432x288 with 1 Axes>"
      ]
     },
     "metadata": {
      "needs_background": "light"
     },
     "output_type": "display_data"
    }
   ],
   "source": [
    "plt.scatter(weather_dictionary[\"Lat\"], weather_dictionary[\"Cloudiness\"])\n",
    "plt.title(\"Latitude vs. Cloudiness\")\n",
    "plt.xlabel(\"Latitude\")\n",
    "plt.ylabel(\"Cloudiness\")\n",
    "plt.savefig(\"../Images/Latitude vs Cloudiness.png\")"
   ]
  },
  {
   "cell_type": "markdown",
   "metadata": {},
   "source": [
    "## Latitude vs. Wind Speed Plot"
   ]
  },
  {
   "cell_type": "code",
   "execution_count": 16,
   "metadata": {},
   "outputs": [
    {
     "data": {
      "image/png": "[encoded data removed]",
      "text/plain": [
       "<Figure size 432x288 with 1 Axes>"
      ]
     },
     "metadata": {
      "needs_background": "light"
     },
     "output_type": "display_data"
    }
   ],
   "source": [
    "plt.scatter(weather_dictionary[\"Lat\"], weather_dictionary[\"Wind Speed\"])\n",
    "plt.title(\"Latitude vs. Wind Speed\")\n",
    "plt.xlabel(\"Latitude\")\n",
    "plt.ylabel(\"Wind Speed\")\n",
    "plt.savefig(\"../Images/Latitude vs Wind Speed.png\")"
   ]
  },
  {
   "cell_type": "markdown",
   "metadata": {},
   "source": [
    "## Linear Regression"
   ]
  },
  {
   "cell_type": "code",
   "execution_count": 17,
   "metadata": {},
   "outputs": [],
   "source": [
    "# Northern and Southern Hemispheres DataFrames\n",
    "northern_hemisphere = weather_dictionary.loc[weather_dictionary[\"Lat\"] >= 0]\n",
    "southern_hemisphere = weather_dictionary.loc[weather_dictionary[\"Lat\"] < 0]\n",
    "\n",
    "# Functions \n",
    "def linear_agression(x,y):\n",
    "    print(f\"The r-squared is : {round(st.pearsonr(x, y)[0],2)}\")\n",
    "    (slope, intercept, rvalue, pvalue, stderr) = linregress(x, y)\n",
    "    regress_values = x * slope + intercept\n",
    "    line_eq = \"y = \" + str(round(slope,2)) + \"x + \" + str(round(intercept,2))\n",
    "    plt.scatter(x, y)\n",
    "    plt.plot(x,regress_values,\"r-\")\n",
    "    return line_eq"
   ]
  },
  {
   "cell_type": "markdown",
   "metadata": {},
   "source": [
    "####  Northern Hemisphere - Max Temp vs. Latitude Linear Regression"
   ]
  },
  {
   "cell_type": "code",
   "execution_count": 18,
   "metadata": {},
   "outputs": [
    {
     "name": "stdout",
     "output_type": "stream",
     "text": [
      "The r-squared is : -0.78\n"
     ]
    },
    {
     "data": {
      "image/png": "[encoded data removed]",
      "text/plain": [
       "<Figure size 432x288 with 1 Axes>"
      ]
     },
     "metadata": {
      "needs_background": "light"
     },
     "output_type": "display_data"
    }
   ],
   "source": [
    "calculation = linear_agression(northern_hemisphere[\"Lat\"], northern_hemisphere[\"Max Temp\"])\n",
    "plt.title(\"Northern Hem - Max Temp vs. Lat Linear Regression\")\n",
    "plt.xlabel(\"Latitude\")\n",
    "plt.ylabel(\"Max Temp\")\n",
    "plt.savefig(\"../Images/Northern Hemisphere - Max Temp vs. Latitude Linear Regression.png\")"
   ]
  },
  {
   "cell_type": "markdown",
   "metadata": {},
   "source": [
    "####  Southern Hemisphere - Max Temp vs. Latitude Linear Regression"
   ]
  },
  {
   "cell_type": "code",
   "execution_count": 19,
   "metadata": {},
   "outputs": [
    {
     "name": "stdout",
     "output_type": "stream",
     "text": [
      "The r-squared is : 0.79\n"
     ]
    },
    {
     "data": {
      "image/png": "[encoded data removed]",
      "text/plain": [
       "<Figure size 432x288 with 1 Axes>"
      ]
     },
     "metadata": {
      "needs_background": "light"
     },
     "output_type": "display_data"
    }
   ],
   "source": [
    "calculation = linear_agression(southern_hemisphere[\"Lat\"],southern_hemisphere[\"Max Temp\"])\n",
    "plt.title(\"Southern Hem - Max Temp vs. Lat Linear Regression\")\n",
    "plt.xlabel(\"Latitude\")\n",
    "plt.ylabel(\"Max Temp\")\n",
    "plt.savefig(\"../Images/Southern Hemisphere - Max Temp vs. Latitude Linear Regression.png\")"
   ]
  },
  {
   "cell_type": "markdown",
   "metadata": {},
   "source": [
    "####  Northern Hemisphere - Humidity (%) vs. Latitude Linear Regression"
   ]
  },
  {
   "cell_type": "code",
   "execution_count": 20,
   "metadata": {},
   "outputs": [
    {
     "name": "stdout",
     "output_type": "stream",
     "text": [
      "The r-squared is : 0.0\n"
     ]
    },
    {
     "data": {
      "image/png": "[encoded data removed]",
      "text/plain": [
       "<Figure size 432x288 with 1 Axes>"
      ]
     },
     "metadata": {
      "needs_background": "light"
     },
     "output_type": "display_data"
    }
   ],
   "source": [
    "calculation = linear_agression(northern_hemisphere[\"Lat\"], northern_hemisphere[\"Humidity\"])\n",
    "plt.title(\"Northern Hem - Humidity (%) vs. Lat Linear Regression\")\n",
    "plt.xlabel(\"Latitude\")\n",
    "plt.ylabel(\"Humidity\")\n",
    "plt.savefig(\"../Images/Northern Hemisphere - Humidity (%) vs. Latitude Linear Regression.png\")"
   ]
  },
  {
   "cell_type": "markdown",
   "metadata": {},
   "source": [
    "####  Southern Hemisphere - Humidity (%) vs. Latitude Linear Regression"
   ]
  },
  {
   "cell_type": "code",
   "execution_count": 21,
   "metadata": {},
   "outputs": [
    {
     "name": "stdout",
     "output_type": "stream",
     "text": [
      "The r-squared is : 0.12\n"
     ]
    },
    {
     "data": {
      "image/png": "[encoded data removed]",
      "text/plain": [
       "<Figure size 432x288 with 1 Axes>"
      ]
     },
     "metadata": {
      "needs_background": "light"
     },
     "output_type": "display_data"
    }
   ],
   "source": [
    "calculation = linear_agression(southern_hemisphere[\"Lat\"], southern_hemisphere[\"Humidity\"])\n",
    "plt.title(\"Southern Hem - Humidity (%) vs. Lat Linear Regression\")\n",
    "plt.xlabel(\"Latitude\")\n",
    "plt.ylabel(\"Humidity\")\n",
    "plt.savefig(\"../Images/Southern Hemisphere - Humidity (%) vs. Latitude Linear Regression.png\")"
   ]
  },
  {
   "cell_type": "markdown",
   "metadata": {},
   "source": [
    "####  Northern Hemisphere - Cloudiness (%) vs. Latitude Linear Regression"
   ]
  },
  {
   "cell_type": "code",
   "execution_count": 22,
   "metadata": {},
   "outputs": [
    {
     "name": "stdout",
     "output_type": "stream",
     "text": [
      "The r-squared is : -0.02\n"
     ]
    },
    {
     "data": {
      "image/png": "[encoded data removed]",
      "text/plain": [
       "<Figure size 432x288 with 1 Axes>"
      ]
     },
     "metadata": {
      "needs_background": "light"
     },
     "output_type": "display_data"
    }
   ],
   "source": [
    "\n",
    "calculation = linear_agression(northern_hemisphere[\"Lat\"], northern_hemisphere[\"Cloudiness\"])\n",
    "plt.title(\"Northern Hem - Cloudiness (%) vs. Lat Linear Regression\")\n",
    "plt.xlabel(\"Latitude\")\n",
    "plt.ylabel(\"Cloudiness\")\n",
    "plt.savefig(\"../Images/Northern Hemisphere - Cloudiness (%) vs. Latitude Linear Regression.png\")"
   ]
  },
  {
   "cell_type": "markdown",
   "metadata": {},
   "source": [
    "####  Southern Hemisphere - Cloudiness (%) vs. Latitude Linear Regression"
   ]
  },
  {
   "cell_type": "code",
   "execution_count": 23,
   "metadata": {},
   "outputs": [
    {
     "name": "stdout",
     "output_type": "stream",
     "text": [
      "The r-squared is : 0.13\n"
     ]
    },
    {
     "data": {
      "image/png": "[encoded data removed]",
      "text/plain": [
       "<Figure size 432x288 with 1 Axes>"
      ]
     },
     "metadata": {
      "needs_background": "light"
     },
     "output_type": "display_data"
    }
   ],
   "source": [
    "\n",
    "calculation = linear_agression(southern_hemisphere[\"Lat\"], southern_hemisphere[\"Cloudiness\"])\n",
    "plt.title(\"Southern Hem - Cloudiness (%) vs. Lat Linear Regression\")\n",
    "plt.xlabel(\"Latitude\")\n",
    "plt.ylabel(\"Cloudiness\")\n",
    "plt.savefig(\"../Images/Southern Hemisphere - Cloudiness (%) vs. Latitude Linear Regression.png\")"
   ]
  },
  {
   "cell_type": "markdown",
   "metadata": {},
   "source": [
    "####  Northern Hemisphere - Wind Speed (mph) vs. Latitude Linear Regression"
   ]
  },
  {
   "cell_type": "code",
   "execution_count": 24,
   "metadata": {},
   "outputs": [
    {
     "name": "stdout",
     "output_type": "stream",
     "text": [
      "The r-squared is : 0.17\n"
     ]
    },
    {
     "data": {
      "image/png": "[encoded data removed]",
      "text/plain": [
       "<Figure size 432x288 with 1 Axes>"
      ]
     },
     "metadata": {
      "needs_background": "light"
     },
     "output_type": "display_data"
    }
   ],
   "source": [
    "calculation = linear_agression(northern_hemisphere[\"Lat\"], northern_hemisphere[\"Wind Speed\"])\n",
    "plt.title(\"Northern Hem - Wind Speed (mph) vs. Lat Linear Regression\")\n",
    "plt.xlabel(\"Latitude\")\n",
    "plt.ylabel(\"Wind Speed\")\n",
    "plt.savefig(\"../Images/Northern Hemisphere - Wind Speed vs. Latitude Linear Regression.png\")"
   ]
  },
  {
   "cell_type": "markdown",
   "metadata": {},
   "source": [
    "####  Southern Hemisphere - Wind Speed (mph) vs. Latitude Linear Regression"
   ]
  },
  {
   "cell_type": "code",
   "execution_count": 25,
   "metadata": {},
   "outputs": [
    {
     "name": "stdout",
     "output_type": "stream",
     "text": [
      "The r-squared is : -0.25\n"
     ]
    },
    {
     "data": {
      "image/png": "[encoded data removed]",
      "text/plain": [
       "<Figure size 432x288 with 1 Axes>"
      ]
     },
     "metadata": {
      "needs_background": "light"
     },
     "output_type": "display_data"
    }
   ],
   "source": [
    "calculation = linear_agression(southern_hemisphere[\"Lat\"], southern_hemisphere[\"Wind Speed\"])\n",
    "plt.title(\"Southern Hem - Wind Speed (mph) vs. Lat Linear Regression\")\n",
    "plt.xlabel(\"Latitude\")\n",
    "plt.ylabel(\"Wind Speed\")\n",
    "plt.savefig(\"../Images/Southern Hemisphere - Wind Speed vs. Latitude Linear Regression.png\")"
   ]
  },
  {
   "cell_type": "code",
   "execution_count": null,
   "metadata": {},
   "outputs": [],
   "source": []
  }
 ],
 "metadata": {
  "anaconda-cloud": {},
  "kernel_info": {
   "name": "python3"
  },
  "kernelspec": {
   "display_name": "Python 3",
   "language": "python",
   "name": "python3"
  },
  "language_info": {
   "codemirror_mode": {
    "name": "ipython",
    "version": 3
   },
   "file_extension": ".py",
   "mimetype": "text/x-python",
   "name": "python",
   "nbconvert_exporter": "python",
   "pygments_lexer": "ipython3",
   "version": "3.8.5"
  },
  "latex_envs": {
   "LaTeX_envs_menu_present": true,
   "autoclose": false,
   "autocomplete": true,
   "bibliofile": "biblio.bib",
   "cite_by": "apalike",
   "current_citInitial": 1,
   "eqLabelWithNumbers": true,
   "eqNumInitial": 1,
   "hotkeys": {
    "equation": "Ctrl-E",
    "itemize": "Ctrl-I"
   },
   "labels_anchors": false,
   "latex_user_defs": false,
   "report_style_numbering": false,
   "user_envs_cfg": false
  },
  "nteract": {
   "version": "0.12.3"
  }
 },
 "nbformat": 4,
 "nbformat_minor": 2
}
